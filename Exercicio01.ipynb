{
 "cells": [
  {
   "cell_type": "markdown",
   "metadata": {},
   "source": [
    "1 Faça um Programa que peça o raio de um círculo, calcule e mostre sua área."
   ]
  },
  {
   "cell_type": "code",
   "execution_count": 3,
   "metadata": {},
   "outputs": [
    {
     "name": "stdout",
     "output_type": "stream",
     "text": [
      "raio?10\n"
     ]
    },
    {
     "data": {
      "text/plain": [
       "62.800000000000004"
      ]
     },
     "execution_count": 3,
     "metadata": {},
     "output_type": "execute_result"
    }
   ],
   "source": [
    "2*3.14*float(input('raio?'))"
   ]
  },
  {
   "cell_type": "markdown",
   "metadata": {},
   "source": [
    "2 Faça um Programa que calcule a área de um quadrado, em seguida mostre o dobro\n",
    "desta área para o usuário."
   ]
  },
  {
   "cell_type": "code",
   "execution_count": 6,
   "metadata": {},
   "outputs": [
    {
     "name": "stdout",
     "output_type": "stream",
     "text": [
      "lado?10\n"
     ]
    },
    {
     "data": {
      "text/plain": [
       "40.0"
      ]
     },
     "execution_count": 6,
     "metadata": {},
     "output_type": "execute_result"
    }
   ],
   "source": [
    "float(input('lado?''))*2*2"
   ]
  },
  {
   "cell_type": "markdown",
   "metadata": {},
   "source": [
    "3 Faça um Programa que pergunte quanto você ganha por hora e o número de horas\n",
    "trabalhadas no mês. Calcule e mostre o total do seu salário no referido mês."
   ]
  },
  {
   "cell_type": "code",
   "execution_count": 8,
   "metadata": {},
   "outputs": [
    {
     "name": "stdout",
     "output_type": "stream",
     "text": [
      "valor hora?10\n",
      "horas por mes?44\n",
      "Salario do mes 440\n"
     ]
    }
   ],
   "source": [
    "print(\"Salario do mes\", int(input('valor hora?'))*int(input('horas por mes?')))"
   ]
  },
  {
   "cell_type": "markdown",
   "metadata": {},
   "source": [
    "4 Faça um Programa que peça a temperatura em graus Farenheit, transforme e\n",
    "mostre a temperatura em graus Celsius. C = (5 * (F-32) / 9)."
   ]
  },
  {
   "cell_type": "code",
   "execution_count": 10,
   "metadata": {},
   "outputs": [
    {
     "name": "stdout",
     "output_type": "stream",
     "text": [
      "Farenheit?10\n",
      "temperatura em Celsius -12.222222222222221\n"
     ]
    }
   ],
   "source": [
    "print('temperatura em Celsius', (5 * (float(input(\"Farenheit?\"))-32)/9))"
   ]
  },
  {
   "cell_type": "markdown",
   "metadata": {},
   "source": [
    "5 Faça um Programa que peça a temperatura em graus Celsius, transforme e mostre\n",
    "em graus Farenheit."
   ]
  },
  {
   "cell_type": "code",
   "execution_count": 14,
   "metadata": {},
   "outputs": [
    {
     "name": "stdout",
     "output_type": "stream",
     "text": [
      "Celsius?-12.222222222222222\n",
      "temperatura em Farenheit 10.0\n"
     ]
    }
   ],
   "source": [
    "print('temperatura em Farenheit', (float(input('Celsius?')) * 9/5) + 32)"
   ]
  },
  {
   "cell_type": "markdown",
   "metadata": {},
   "source": [
    "6 Faça um Programa que peça 2 números inteiros e um número real. Calcule e\n",
    "mostre:\n",
    "- o produto do dobro do primeiro com metade do segundo .\n",
    "- a soma do triplo do primeiro com o terceiro.\n",
    "- o terceiro elevado ao cubo."
   ]
  },
  {
   "cell_type": "code",
   "execution_count": 16,
   "metadata": {},
   "outputs": [
    {
     "name": "stdout",
     "output_type": "stream",
     "text": [
      "inteiro 1 5\n",
      "inteiro 2 10\n",
      "real 1 2\n",
      "25.0\n",
      "17\n",
      "8\n"
     ]
    }
   ],
   "source": [
    "int1 = int(input(\"inteiro 1 \"))\n",
    "int2 = int(input(\"inteiro 2 \"))\n",
    "float1 = int(input(\"real 1 \"))\n",
    "\n",
    "print(int1 * (int2/2))\n",
    "print((int1 * 3) + float1)\n",
    "print(float1 ** 3)"
   ]
  },
  {
   "cell_type": "markdown",
   "metadata": {},
   "source": [
    "7 João Papo-de-Pescador, homem de bem, comprou um microcomputador para\n",
    "controlar o rendimento diário de seu trabalho. Toda vez que ele traz um peso de\n",
    "peixes maior que o estabelecido pelo regulamento de pesca do estado de São Paulo\n",
    "(50 quilos) deve pagar uma multa de R$ 4,00 por quilo excedente. João precisa que\n",
    "você faça um programa que leia a variável peso (peso de peixes) e verifique se há\n",
    "excesso. Se houver, gravar na variável excesso e na variável multa o valor da multa\n",
    "que João deverá pagar. Caso contrário mostrar tais variáveis com o conteúdo ZERO."
   ]
  },
  {
   "cell_type": "code",
   "execution_count": 19,
   "metadata": {},
   "outputs": [
    {
     "name": "stdout",
     "output_type": "stream",
     "text": [
      "peso peixe?55\n",
      "excesso 5.0\n",
      "multa 20.0\n"
     ]
    }
   ],
   "source": [
    "peso = float(input('peso peixe?'))\n",
    "multa = 0\n",
    "excesso = 0\n",
    "\n",
    "if(peso > 50):\n",
    "    multa = (peso - 50) * 4\n",
    "    excesso = peso - 50\n",
    "\n",
    "print('excesso', excesso)\n",
    "print('multa', multa)"
   ]
  },
  {
   "cell_type": "markdown",
   "metadata": {},
   "source": [
    "8 Faça um Programa que pergunte quanto você ganha por hora e o número de horas\n",
    "trabalhadas no mês. Calcule e mostre o total do seu salário no referido mês,\n",
    "sabendo-se que são descontados 11% para o Imposto de Renda, 8% para o INSS e 5%\n",
    "para o sindicato, faça um programa que nos dê:\n",
    "- salário bruto.\n",
    "- quanto pagou ao INSS.\n",
    "- quanto pagou ao sindicato.\n",
    "- o salário líquido.\n",
    "- calcule os descontos e o salário líquido, conforme a tabela abaixo:\n",
    "+ Salário Bruto : R$\n",
    "- IR (11%) : R$\n",
    "- INSS (8%) : R$\n",
    "- Sindicato ( 5%) : R$\n",
    "= Salário Liquido : R$\n",
    "Obs.: Salário Bruto - Descontos = Salário Líquido."
   ]
  },
  {
   "cell_type": "code",
   "execution_count": 21,
   "metadata": {},
   "outputs": [
    {
     "name": "stdout",
     "output_type": "stream",
     "text": [
      "valor hora?10\n",
      "hora mes?100\n",
      "salario bruto 1000.0\n",
      "inss 80.0\n",
      "sindicato 50.0\n",
      "imposto renda 110.0\n",
      "liquido 760.0\n"
     ]
    }
   ],
   "source": [
    "valorHora = float(input('valor hora?'))\n",
    "horaMes = float(input('hora mes?'))\n",
    "\n",
    "salarioBruto = valorHora * horaMes\n",
    "inss = salarioBruto * 0.08\n",
    "sindicato = salarioBruto * 0.05\n",
    "impRenda = salarioBruto * 0.11\n",
    "\n",
    "print('salario bruto', salarioBruto)\n",
    "print('inss', inss)\n",
    "print('sindicato', sindicato)\n",
    "print('imposto renda', impRenda)\n",
    "print('liquido', salarioBruto - inss - sindicato - impRenda)"
   ]
  },
  {
   "cell_type": "markdown",
   "metadata": {},
   "source": [
    "9 Faça um programa que leia 2 strings e informe o conteúdo delas seguido do seu\n",
    "comprimento. Informe também se as duas strings possuem o mesmo comprimento e\n",
    "são iguais ou diferentes no conteúdo.\n",
    "Exemplo:\n",
    "String 1: Brasil Hexa 2018\n",
    "String 2: Brasil! Hexa 2018!\n",
    "Tamanho de \"Brasil Hexa 2018\": 16 caracteres\n",
    "Tamanho de \"Brasil! Hexa 2018!\": 18 caracteres\n",
    "As duas strings são de tamanhos diferentes.\n",
    "As duas strings possuem conteúdo diferente."
   ]
  },
  {
   "cell_type": "code",
   "execution_count": 23,
   "metadata": {},
   "outputs": [
    {
     "name": "stdout",
     "output_type": "stream",
     "text": [
      "string 1tex\n",
      "string 2tex\n",
      "tamanho string 1 3\n",
      "tamanho string 2 3\n",
      "são iguais\n"
     ]
    }
   ],
   "source": [
    "string1 = input('string 1')\n",
    "string2 = input('string 2')\n",
    "\n",
    "print('tamanho string 1', len(string1))\n",
    "print('tamanho string 2', len(string2))\n",
    "\n",
    "if string1 == string2:\n",
    "    print('são iguais')\n",
    "else:\n",
    "    print('são diferentes')\n",
    "    "
   ]
  },
  {
   "cell_type": "markdown",
   "metadata": {},
   "source": [
    "10 Faça um programa que permita ao usuário digitar o seu nome e em seguida\n",
    "mostre o nome do usuário de trás para frente utilizando somente letras maiúsculas.\n",
    "Dica: lembre−se que ao informar o nome o usuário pode digitar letras maiúsculas ou\n",
    "minúsculas. Observação: não use loops."
   ]
  },
  {
   "cell_type": "code",
   "execution_count": 29,
   "metadata": {},
   "outputs": [
    {
     "name": "stdout",
     "output_type": "stream",
     "text": [
      "nome?mari\n",
      "IRAM\n"
     ]
    }
   ],
   "source": [
    "name = str(input('nome?')).upper()\n",
    "print(name[::-1])"
   ]
  },
  {
   "cell_type": "markdown",
   "metadata": {},
   "source": [
    "11 Faça um programa que solicite a data de nascimento (dd/mm/aaaa) do usuário e\n",
    "imprima a data com o nome do mês por extenso.\n",
    "\n",
    "Data de Nascimento: 29/10/1973\n",
    "Você nasceu em 29 de Outubro de 1973.\n",
    "Obs.: Não use desvio condicional nem loops."
   ]
  },
  {
   "cell_type": "code",
   "execution_count": 35,
   "metadata": {},
   "outputs": [
    {
     "name": "stdout",
     "output_type": "stream",
     "text": [
      "date 01/09/2018\n",
      "01 de Setembro de 2018\n"
     ]
    }
   ],
   "source": [
    "date = str(input('date ')).replace('/01/', ' de Janeiro de ').replace('/02/', ' de Fevereiro de ')\n",
    "date = date.replace('/03/', ' de Março de ').replace('/04/', ' de Abril de ')\n",
    "date = date.replace('/05/', ' de Maio de ').replace('/06/', ' de Junho de ')\n",
    "date = date.replace('/07/', ' de Julho de ').replace('/08/', ' de Agosto de ')\n",
    "date = date.replace('/09/', ' de Setembro de ').replace('/10/', ' de Outubro de ')\n",
    "date = date.replace('/11/', ' de Novembro de ').replace('/12/', ' de Dezembro de ')\n",
    "\n",
    "print(date)"
   ]
  },
  {
   "cell_type": "markdown",
   "metadata": {},
   "source": [
    "12 Leet é uma forma de se escrever o alfabeto latino usando outros símbolos em\n",
    "lugar das letras, como números por exemplo. A própria palavra leet admite muitas\n",
    "variações, como l33t ou 1337. O uso do leet reflete uma subcultura relacionada ao\n",
    "mundo dos jogos de computador e internet, sendo muito usada para confundir os\n",
    "iniciantes e afirmar-se como parte de um grupo. Pesquise sobre as principais formas\n",
    "de traduzir as letras. Depois, faça um programa que peça uma texto e transforme-o\n",
    "para a grafia leet speak."
   ]
  },
  {
   "cell_type": "code",
   "execution_count": 45,
   "metadata": {},
   "outputs": [
    {
     "name": "stdout",
     "output_type": "stream",
     "text": [
      "txt maria\n",
      "m5r15\n"
     ]
    }
   ],
   "source": [
    "txt = str(input('txt ')).replace('a', '5').replace('b', '6').replace('e', '3').replace('i', '1').replace('o', '0')\n",
    "print(txt)"
   ]
  },
  {
   "cell_type": "code",
   "execution_count": null,
   "metadata": {},
   "outputs": [],
   "source": []
  }
 ],
 "metadata": {
  "kernelspec": {
   "display_name": "Python 3",
   "language": "python",
   "name": "python3"
  },
  "language_info": {
   "codemirror_mode": {
    "name": "ipython",
    "version": 3
   },
   "file_extension": ".py",
   "mimetype": "text/x-python",
   "name": "python",
   "nbconvert_exporter": "python",
   "pygments_lexer": "ipython3",
   "version": "3.7.3"
  }
 },
 "nbformat": 4,
 "nbformat_minor": 2
}
